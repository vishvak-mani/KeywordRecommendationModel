{
 "cells": [
  {
   "cell_type": "code",
   "execution_count": 13,
   "metadata": {},
   "outputs": [],
   "source": [
    "#pip install ipynb-py-convert"
   ]
  },
  {
   "cell_type": "code",
   "execution_count": 14,
   "metadata": {},
   "outputs": [],
   "source": [
    "import ipynb_py_convert"
   ]
  },
  {
   "cell_type": "code",
   "execution_count": 24,
   "metadata": {},
   "outputs": [
    {
     "name": "stdout",
     "output_type": "stream",
     "text": [
      "Collecting p2j\n",
      "  Downloading p2j-1.3.2-py3-none-any.whl (19 kB)\n",
      "Installing collected packages: p2j\n",
      "Successfully installed p2j-1.3.2\n",
      "Note: you may need to restart the kernel to use updated packages.\n"
     ]
    }
   ],
   "source": [
    "pip install p2j"
   ]
  },
  {
   "cell_type": "code",
   "execution_count": 2,
   "metadata": {},
   "outputs": [
    {
     "ename": "SyntaxError",
     "evalue": "invalid syntax (<ipython-input-2-abfeb945c141>, line 1)",
     "output_type": "error",
     "traceback": [
      "\u001b[0;36m  File \u001b[0;32m\"<ipython-input-2-abfeb945c141>\"\u001b[0;36m, line \u001b[0;32m1\u001b[0m\n\u001b[0;31m    p2j KeyExtractor_2.py\u001b[0m\n\u001b[0m                     ^\u001b[0m\n\u001b[0;31mSyntaxError\u001b[0m\u001b[0;31m:\u001b[0m invalid syntax\n"
     ]
    }
   ],
   "source": [
    "p2j KeyExtractor_2.py"
   ]
  },
  {
   "cell_type": "code",
   "execution_count": 1,
   "metadata": {},
   "outputs": [
    {
     "ename": "SyntaxError",
     "evalue": "invalid syntax (<ipython-input-1-4349e524956e>, line 1)",
     "output_type": "error",
     "traceback": [
      "\u001b[0;36m  File \u001b[0;32m\"<ipython-input-1-4349e524956e>\"\u001b[0;36m, line \u001b[0;32m1\u001b[0m\n\u001b[0;31m    ipynb-py-convert KeyExtractor_2.py KeyExtractor.ipynb\u001b[0m\n\u001b[0m                                  ^\u001b[0m\n\u001b[0;31mSyntaxError\u001b[0m\u001b[0;31m:\u001b[0m invalid syntax\n"
     ]
    }
   ],
   "source": [
    "ipynb-py-convert KeyExtractor_2.py KeyExtractor.ipynb"
   ]
  },
  {
   "cell_type": "code",
   "execution_count": 17,
   "metadata": {},
   "outputs": [],
   "source": [
    "#import IPython.nbformat.current as nbf\n",
    "#nb = nbf.read(open('KeyExtractor.py', 'r'), 'py')\n",
    "#nbf.write(nb, open('KeyExtractor.ipynb', 'w'), 'ipynb')"
   ]
  },
  {
   "cell_type": "code",
   "execution_count": 21,
   "metadata": {},
   "outputs": [
    {
     "name": "stdout",
     "output_type": "stream",
     "text": [
      "Collecting jupytext\n",
      "  Downloading jupytext-1.4.2.tar.gz (654 kB)\n",
      "\u001b[K     |████████████████████████████████| 654 kB 1.7 MB/s eta 0:00:01\n",
      "\u001b[?25hRequirement already satisfied, skipping upgrade: nbformat>=4.0.0 in /Users/mansirathod/anaconda3/lib/python3.7/site-packages (from jupytext) (5.0.4)\n",
      "Requirement already satisfied, skipping upgrade: pyyaml in /Users/mansirathod/anaconda3/lib/python3.7/site-packages (from jupytext) (5.3.1)\n",
      "Requirement already satisfied, skipping upgrade: ipython-genutils in /Users/mansirathod/anaconda3/lib/python3.7/site-packages (from nbformat>=4.0.0->jupytext) (0.2.0)\n",
      "Requirement already satisfied, skipping upgrade: traitlets>=4.1 in /Users/mansirathod/anaconda3/lib/python3.7/site-packages (from nbformat>=4.0.0->jupytext) (4.3.3)\n",
      "Requirement already satisfied, skipping upgrade: jsonschema!=2.5.0,>=2.4 in /Users/mansirathod/anaconda3/lib/python3.7/site-packages (from nbformat>=4.0.0->jupytext) (3.2.0)\n",
      "Requirement already satisfied, skipping upgrade: jupyter-core in /Users/mansirathod/anaconda3/lib/python3.7/site-packages (from nbformat>=4.0.0->jupytext) (4.6.1)\n",
      "Requirement already satisfied, skipping upgrade: decorator in /Users/mansirathod/anaconda3/lib/python3.7/site-packages (from traitlets>=4.1->nbformat>=4.0.0->jupytext) (4.4.2)\n",
      "Requirement already satisfied, skipping upgrade: six in /Users/mansirathod/anaconda3/lib/python3.7/site-packages (from traitlets>=4.1->nbformat>=4.0.0->jupytext) (1.14.0)\n",
      "Requirement already satisfied, skipping upgrade: importlib-metadata; python_version < \"3.8\" in /Users/mansirathod/anaconda3/lib/python3.7/site-packages (from jsonschema!=2.5.0,>=2.4->nbformat>=4.0.0->jupytext) (1.5.0)\n",
      "Requirement already satisfied, skipping upgrade: attrs>=17.4.0 in /Users/mansirathod/anaconda3/lib/python3.7/site-packages (from jsonschema!=2.5.0,>=2.4->nbformat>=4.0.0->jupytext) (19.3.0)\n",
      "Requirement already satisfied, skipping upgrade: pyrsistent>=0.14.0 in /Users/mansirathod/anaconda3/lib/python3.7/site-packages (from jsonschema!=2.5.0,>=2.4->nbformat>=4.0.0->jupytext) (0.16.0)\n",
      "Requirement already satisfied, skipping upgrade: setuptools in /Users/mansirathod/anaconda3/lib/python3.7/site-packages (from jsonschema!=2.5.0,>=2.4->nbformat>=4.0.0->jupytext) (46.1.3.post20200330)\n",
      "Requirement already satisfied, skipping upgrade: zipp>=0.5 in /Users/mansirathod/anaconda3/lib/python3.7/site-packages (from importlib-metadata; python_version < \"3.8\"->jsonschema!=2.5.0,>=2.4->nbformat>=4.0.0->jupytext) (2.2.0)\n",
      "Building wheels for collected packages: jupytext\n",
      "  Building wheel for jupytext (setup.py) ... \u001b[?25ldone\n",
      "\u001b[?25h  Created wheel for jupytext: filename=jupytext-1.4.2-py3-none-any.whl size=229905 sha256=90ceb0109962c8fa095ec3865bbce4fecc694539d6a57e7dc1791b46c14c45f0\n",
      "  Stored in directory: /Users/mansirathod/Library/Caches/pip/wheels/eb/f4/16/5d9310983326fd9f3e8fae42dfd0eeb88a83efd0ee9105615f\n",
      "Successfully built jupytext\n",
      "Installing collected packages: jupytext\n",
      "Successfully installed jupytext-1.4.2\n",
      "Note: you may need to restart the kernel to use updated packages.\n"
     ]
    }
   ],
   "source": [
    "pip install jupytext --upgrade"
   ]
  },
  {
   "cell_type": "code",
   "execution_count": 22,
   "metadata": {},
   "outputs": [],
   "source": [
    "import jupytext"
   ]
  },
  {
   "cell_type": "code",
   "execution_count": null,
   "metadata": {},
   "outputs": [],
   "source": []
  }
 ],
 "metadata": {
  "kernelspec": {
   "display_name": "Python 3",
   "language": "python",
   "name": "python3"
  },
  "language_info": {
   "codemirror_mode": {
    "name": "ipython",
    "version": 3
   },
   "file_extension": ".py",
   "mimetype": "text/x-python",
   "name": "python",
   "nbconvert_exporter": "python",
   "pygments_lexer": "ipython3",
   "version": "3.7.3"
  }
 },
 "nbformat": 4,
 "nbformat_minor": 4
}
